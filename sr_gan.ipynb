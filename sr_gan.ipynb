{
  "cells": [
    {
      "cell_type": "code",
      "execution_count": null,
      "metadata": {
        "colab": {
          "base_uri": "https://localhost:8080/"
        },
        "id": "xJA-EGpsBvoX",
        "outputId": "c1d9b0fe-37d5-41d6-d8e7-bb0bb755f29b"
      },
      "outputs": [
        {
          "name": "stdout",
          "output_type": "stream",
          "text": [
            "Mounted at /content/drive\n"
          ]
        }
      ],
      "source": [
        "from google.colab import drive\n",
        "drive.mount('/content/drive', force_remount=True)"
      ]
    },
    {
      "cell_type": "code",
      "execution_count": null,
      "metadata": {
        "id": "VZZtU1ivBs3k"
      },
      "outputs": [],
      "source": [
        "import numpy as np\n",
        "import pandas as pd\n",
        "import os, math, sys\n",
        "import glob, itertools\n",
        "import argparse, random\n",
        "\n",
        "import torch\n",
        "import torch.nn as nn\n",
        "import torch.nn.functional as F\n",
        "from torch.autograd import Variable\n",
        "from torchvision.models import vgg19, inception_v3\n",
        "import torchvision.transforms as transforms\n",
        "from torch.utils.data import DataLoader, Dataset\n",
        "from torchvision.utils import save_image, make_grid\n",
        "\n",
        "import plotly\n",
        "import plotly.express as px\n",
        "import plotly.graph_objects as go\n",
        "import matplotlib.pyplot as plt\n",
        "\n",
        "from PIL import Image\n",
        "from tqdm import tqdm_notebook as tqdm\n",
        "from sklearn.model_selection import train_test_split\n",
        "\n",
        "random.seed(42)\n",
        "import warnings\n",
        "warnings.filterwarnings(\"ignore\")\n",
        "# load pretrained models\n"
      ]
    },
    {
      "cell_type": "code",
      "execution_count": null,
      "metadata": {
        "id": "rbndc28PBs3l"
      },
      "outputs": [],
      "source": [
        "# load pretrained models\n",
        "load_pretrained_models = False\n",
        "\n",
        "# nombre d'époques de l'apprentissage\n",
        "n_epochs = 4\n",
        "\n",
        "# lien de la base de données\n",
        "dataset_path = \"./drive/MyDrive/images/Test/\"\n",
        "\n",
        "# taille des batches\n",
        "batch_size = 16\n",
        "\n",
        "# adam : taux d'apprentissage\n",
        "#Adam est un algorithme d'optimisation pour la descente de gradient stochastique pour l'entrainement de modèles d'apprentissage en profondeur.\n",
        "lr = 0.00008\n",
        "\n",
        "# adam : décroissance de la quantité de mouvement de premier ordre du gradient\n",
        "b1 = 0.5\n",
        "\n",
        "# adam : décroissance de la quantité de mouvement de second ordre du gradient\n",
        "b2 = 0.999\n",
        "\n",
        "# époque à partir de laquelle commencer la décroissance lr\n",
        "decay_epoch = 100\n",
        "\n",
        "# number of cpu threads to use during batch generation\n",
        "n_cpu = 8\n",
        "\n",
        "# haute résolution. hauteur de l'image\n",
        "hr_height = 256\n",
        "\n",
        "# haute résolution. Largeur de l'image\n",
        "hr_width = 256\n",
        "\n",
        "# nombre de canaux d'images\n",
        "channels = 3\n",
        "\n",
        "#os.makedirs(\"images\", exist_ok=True)\n",
        "#os.makedirs(\"saved_models\", exist_ok=True)\n",
        "\n",
        "cuda = torch.cuda.is_available()\n",
        "hr_shape = (hr_height, hr_width)"
      ]
    },
    {
      "cell_type": "code",
      "execution_count": null,
      "metadata": {
        "id": "J-wrJceJozw3"
      },
      "outputs": [],
      "source": [
        ""
      ]
    },
    {
      "cell_type": "markdown",
      "metadata": {
        "id": "0EmloDQ8Bs3m"
      },
      "source": [
        "### Define Dataset Class"
      ]
    },
    {
      "cell_type": "markdown",
      "metadata": {
        "id": "94rjuWglRtZ4"
      },
      "source": [
        "Tous les modèles pré-entraînés attendent des images d'entrée normalisées de la même manière, c'est-à-dire des mini-batch d'images RVB à 3 canaux de forme (3 x H x L), où H et W devraient être d'au moins 224. Les images doivent être chargé dans une plage de [0, 1] puis normalisé en utilisant la moyenne = [0,485, 0,456, 0,406] et std = [0,229, 0,224, 0,225]."
      ]
    },
    {
      "cell_type": "code",
      "execution_count": null,
      "metadata": {
        "id": "9yn_TfZZBs3n"
      },
      "outputs": [],
      "source": [
        "# Paramètres de normalisation pour les modèles PyTorch pré-entraînés\n",
        "mean = np.array([0.485, 0.456, 0.406])\n",
        "std = np.array([0.229, 0.224, 0.225])\n",
        "\n",
        "\n",
        "class ImageDataset(Dataset):\n",
        "    def __init__(self, files, hr_shape):\n",
        "        hr_height, hr_width = hr_shape\n",
        "        # Transforme pour les images basse résolution et les images haute résolution\n",
        "        self.lr_transform = transforms.Compose(\n",
        "            [\n",
        "                transforms.Resize((hr_height // 4, hr_height // 4), Image.BICUBIC),\n",
        "                transforms.ToTensor(),\n",
        "                transforms.Normalize(mean, std),\n",
        "            ]\n",
        "        )\n",
        "        self.hr_transform = transforms.Compose(\n",
        "            [\n",
        "                transforms.Resize((hr_height, hr_height), Image.BICUBIC),\n",
        "                transforms.ToTensor(),\n",
        "                transforms.Normalize(mean, std),\n",
        "            ]\n",
        "        )\n",
        "        self.files = files\n",
        "    \n",
        "    def __getitem__(self, index):\n",
        "        img = Image.open(self.files[index % len(self.files)])\n",
        "        img_lr = self.lr_transform(img)\n",
        "        img_hr = self.hr_transform(img)\n",
        "\n",
        "        return {\"lr\": img_lr, \"hr\": img_hr}\n",
        "\n",
        "    def __len__(self):\n",
        "        return len(self.files)"
      ]
    },
    {
      "cell_type": "code",
      "execution_count": null,
      "metadata": {
        "id": "Xg3ZZb0TBPFf"
      },
      "outputs": [],
      "source": [
        ""
      ]
    },
    {
      "cell_type": "markdown",
      "metadata": {
        "id": "7cdPMs-CBs3o"
      },
      "source": [
        "### Get Train/Test Dataloaders"
      ]
    },
    {
      "cell_type": "markdown",
      "metadata": {
        "id": "jDa0t2w4d_RH"
      },
      "source": [
        "Pour empêcher le chargement de données de bloquer l'entrainemnt, nous pouvons créer des « workers » qui chargent les données de manière asynchrone. Un moyen simple de le faire est de fournir à chaque travailleur une file d'attente d'indices pour cette charge de travail, et une file d'attente de sortie où le travailleur peut placer les données chargées. Tout ce que le worker a à faire est de vérifier à plusieurs reprises sa file d'attente d'index, et de charger les données si la file d'attente n'est pas vide"
      ]
    },
    {
      "cell_type": "code",
      "execution_count": null,
      "metadata": {
        "id": "ryy59TrLiLxS"
      },
      "outputs": [],
      "source": [
        "a=[]"
      ]
    },
    {
      "cell_type": "code",
      "execution_count": null,
      "metadata": {
        "id": "A0NevqBTdo_z"
      },
      "outputs": [],
      "source": [
        "while(len(a)==0):\n",
        "  a = sorted(glob.glob(dataset_path + \"/*.*\"))"
      ]
    },
    {
      "cell_type": "code",
      "execution_count": null,
      "metadata": {
        "colab": {
          "base_uri": "https://localhost:8080/"
        },
        "id": "subYJtm3wvtr",
        "outputId": "12ebbbbb-afd4-4d3e-e151-3e562f19504f"
      },
      "outputs": [
        {
          "data": {
            "text/plain": [
              "159618"
            ]
          },
          "execution_count": 7,
          "metadata": {
            "tags": []
          },
          "output_type": "execute_result"
        }
      ],
      "source": [
        "len(a)"
      ]
    },
    {
      "cell_type": "code",
      "execution_count": null,
      "metadata": {
        "id": "cYum9FOjdtgw"
      },
      "outputs": [],
      "source": [
        "dataset =a #[:100000]"
      ]
    },
    {
      "cell_type": "code",
      "execution_count": null,
      "metadata": {
        "colab": {
          "base_uri": "https://localhost:8080/"
        },
        "id": "kN4i5iN1u1s9",
        "outputId": "afbec363-506a-49e7-dc09-27f046fb58a6"
      },
      "outputs": [
        {
          "data": {
            "text/plain": [
              "100000"
            ]
          },
          "execution_count": 10,
          "metadata": {
            "tags": []
          },
          "output_type": "execute_result"
        }
      ],
      "source": [
        "len(dataset)"
      ]
    },
    {
      "cell_type": "code",
      "execution_count": null,
      "metadata": {
        "id": "15b1FmEcBs3o"
      },
      "outputs": [],
      "source": [
        "train_paths, test_paths = train_test_split(dataset, test_size=0.02, random_state=42)\n",
        "train_dataloader = DataLoader(ImageDataset(train_paths, hr_shape=hr_shape), batch_size=batch_size, shuffle=True, num_workers=n_cpu)\n",
        "test_dataloader = DataLoader(ImageDataset(test_paths, hr_shape=hr_shape), batch_size=int(batch_size*0.75), shuffle=True, num_workers=n_cpu)"
      ]
    },
    {
      "cell_type": "markdown",
      "metadata": {
        "id": "i_jUNmz2Bs3p"
      },
      "source": [
        "### Define Model Classes"
      ]
    },
    {
      "cell_type": "markdown",
      "metadata": {
        "id": "T1aGZumxvHBL"
      },
      "source": [
        "https://www.cl.cam.ac.uk/research/rainbow/projects/mdf/"
      ]
    },
    {
      "cell_type": "markdown",
      "source": [
        "Using VGG19 model to Extract *Features*"
      ],
      "metadata": {
        "id": "KAXgllFZ5bVt"
      }
    },
    {
      "cell_type": "code",
      "execution_count": null,
      "metadata": {
        "id": "vjp39xAhrBzA"
      },
      "outputs": [],
      "source": [
        "class FeatureExtractor(nn.Module):\n",
        "    def __init__(self):\n",
        "        super(FeatureExtractor, self).__init__()\n",
        "        vgg19_model = vgg19(pretrained=True)\n",
        "        self.feature_extractor = nn.Sequential(*list(vgg19_model.features.children())[:18])\n",
        "\n",
        "    def forward(self, img):\n",
        "        return self.feature_extractor(img)\n"
      ]
    },
    {
      "cell_type": "markdown",
      "source": [
        "Using Inception model to Extract *Features*"
      ],
      "metadata": {
        "id": "MQImKXAl5QXP"
      }
    },
    {
      "cell_type": "code",
      "execution_count": null,
      "metadata": {
        "id": "LKLOKpcgd8aN"
      },
      "outputs": [],
      "source": [
        "# class MyInceptionFeatureExtractor(nn.Module):\n",
        "#     def __init__(self, inception, transform_input=False):\n",
        "#         super(MyInceptionFeatureExtractor, self).__init__()\n",
        "#         self.transform_input = transform_input\n",
        "#         self.Conv2d_1a_3x3 = inception.Conv2d_1a_3x3\n",
        "#         self.Conv2d_2a_3x3 = inception.Conv2d_2a_3x3\n",
        "#         self.Conv2d_2b_3x3 = inception.Conv2d_2b_3x3\n",
        "#         self.Conv2d_3b_1x1 = inception.Conv2d_3b_1x1\n",
        "#         self.Conv2d_4a_3x3 = inception.Conv2d_4a_3x3\n",
        "#         self.Mixed_5b = inception.Mixed_5b\n",
        "#         # stop where you want, copy paste from the model def\n",
        "\n",
        "#     def forward(self, x):\n",
        "#         if self.transform_input:\n",
        "#             x = x.clone()\n",
        "#             x[0] = x[0] * (0.229 / 0.5) + (0.485 - 0.5) / 0.5\n",
        "#             x[1] = x[1] * (0.224 / 0.5) + (0.456 - 0.5) / 0.5\n",
        "#             x[2] = x[2] * (0.225 / 0.5) + (0.406 - 0.5) / 0.5\n",
        "#         # 299 x 299 x 3\n",
        "#         x = self.Conv2d_1a_3x3(x)\n",
        "#         # 149 x 149 x 32\n",
        "#         x = self.Conv2d_2a_3x3(x)\n",
        "#         # 147 x 147 x 32\n",
        "#         x = self.Conv2d_2b_3x3(x)\n",
        "#         # 147 x 147 x 64\n",
        "#         x = F.max_pool2d(x, kernel_size=3, stride=2)\n",
        "#         # 73 x 73 x 64\n",
        "#         x = self.Conv2d_3b_1x1(x)\n",
        "#         # 73 x 73 x 80\n",
        "#         x = self.Conv2d_4a_3x3(x)\n",
        "#         # 71 x 71 x 192\n",
        "#         x = F.max_pool2d(x, kernel_size=3, stride=2)\n",
        "#         # 35 x 35 x 192\n",
        "#         x = self.Mixed_5b(x)\n",
        "#         # copy paste from model definition, just stopping where you want\n",
        "#         return x\n",
        "\n",
        "\n"
      ]
    },
    {
      "cell_type": "code",
      "execution_count": null,
      "metadata": {
        "id": "eAc2Hb0jgRYw"
      },
      "outputs": [],
      "source": [
        "import torchvision"
      ]
    },
    {
      "cell_type": "code",
      "execution_count": null,
      "metadata": {
        "id": "xGtbMfB8mDT2"
      },
      "outputs": [],
      "source": [
        "# class FeatureExtractor(nn.Module):\n",
        "#     def __init__(self):\n",
        "#         super(FeatureExtractor, self).__init__()\n",
        "#         inception_model = my_inception\n",
        "#         self.feature_extractor = nn.Sequential(*list(inception_model.children()))\n",
        "\n",
        "#     def forward(self, img):\n",
        "#         return self.feature_extractor(img)"
      ]
    },
    {
      "cell_type": "code",
      "execution_count": null,
      "metadata": {
        "id": "ItpDxvBvBs3p"
      },
      "outputs": [],
      "source": [
        "class ResidualBlock(nn.Module):\n",
        "    def __init__(self, in_features):\n",
        "        super(ResidualBlock, self).__init__()\n",
        "        self.conv_block = nn.Sequential(\n",
        "            nn.Conv2d(in_features, in_features, kernel_size=3, stride=1, padding=1),\n",
        "            nn.BatchNorm2d(in_features, 0.8),\n",
        "            nn.PReLU(),\n",
        "            nn.Conv2d(in_features, in_features, kernel_size=3, stride=1, padding=1),\n",
        "            nn.BatchNorm2d(in_features, 0.8),\n",
        "        )\n",
        "\n",
        "    def forward(self, x):\n",
        "        return x + self.conv_block(x)\n",
        "\n",
        "\n",
        "class GeneratorResNet(nn.Module):\n",
        "    def __init__(self, in_channels=3, out_channels=3, n_residual_blocks=16):\n",
        "        super(GeneratorResNet, self).__init__()\n",
        "\n",
        "        # First layer\n",
        "        self.conv1 = nn.Sequential(nn.Conv2d(in_channels, 64, kernel_size=9, stride=1, padding=4), nn.PReLU())\n",
        "\n",
        "        # Residual blocks\n",
        "        res_blocks = []\n",
        "        for _ in range(n_residual_blocks):\n",
        "            res_blocks.append(ResidualBlock(64))\n",
        "        self.res_blocks = nn.Sequential(*res_blocks)\n",
        "\n",
        "        # Second conv layer post residual blocks\n",
        "        self.conv2 = nn.Sequential(nn.Conv2d(64, 64, kernel_size=3, stride=1, padding=1), nn.BatchNorm2d(64, 0.8))\n",
        "\n",
        "        # Upsampling layers\n",
        "        upsampling = []\n",
        "        for out_features in range(2):\n",
        "            upsampling += [\n",
        "                # nn.Upsample(scale_factor=2),\n",
        "                nn.Conv2d(64, 256, 3, 1, 1),\n",
        "                nn.BatchNorm2d(256),\n",
        "                nn.PixelShuffle(upscale_factor=2),\n",
        "                nn.PReLU(),\n",
        "            ]\n",
        "        self.upsampling = nn.Sequential(*upsampling)\n",
        "\n",
        "        # Final output layer\n",
        "        self.conv3 = nn.Sequential(nn.Conv2d(64, out_channels, kernel_size=9, stride=1, padding=4), nn.Tanh())\n",
        "\n",
        "    def forward(self, x):\n",
        "        out1 = self.conv1(x)\n",
        "        out = self.res_blocks(out1)\n",
        "        out2 = self.conv2(out)\n",
        "        out = torch.add(out1, out2)\n",
        "        out = self.upsampling(out)\n",
        "        out = self.conv3(out)\n",
        "        return out\n",
        "\n",
        "\n",
        "class Discriminator(nn.Module):\n",
        "    def __init__(self, input_shape):\n",
        "        super(Discriminator, self).__init__()\n",
        "\n",
        "        self.input_shape = input_shape\n",
        "        in_channels, in_height, in_width = self.input_shape\n",
        "        patch_h, patch_w = int(in_height / 2 ** 4), int(in_width / 2 ** 4)\n",
        "        self.output_shape = (1, patch_h, patch_w)\n",
        "\n",
        "        def discriminator_block(in_filters, out_filters, first_block=False):\n",
        "            layers = []\n",
        "            layers.append(nn.Conv2d(in_filters, out_filters, kernel_size=3, stride=1, padding=1))\n",
        "            if not first_block:\n",
        "                layers.append(nn.BatchNorm2d(out_filters))\n",
        "            layers.append(nn.LeakyReLU(0.2, inplace=True))\n",
        "            layers.append(nn.Conv2d(out_filters, out_filters, kernel_size=3, stride=2, padding=1))\n",
        "            layers.append(nn.BatchNorm2d(out_filters))\n",
        "            layers.append(nn.LeakyReLU(0.2, inplace=True))\n",
        "            return layers\n",
        "\n",
        "        layers = []\n",
        "        in_filters = in_channels\n",
        "        for i, out_filters in enumerate([64, 128, 256, 512]):\n",
        "            layers.extend(discriminator_block(in_filters, out_filters, first_block=(i == 0)))\n",
        "            in_filters = out_filters\n",
        "\n",
        "        layers.append(nn.Conv2d(out_filters, 1, kernel_size=3, stride=1, padding=1))\n",
        "\n",
        "        self.model = nn.Sequential(*layers)\n",
        "\n",
        "    def forward(self, img):\n",
        "        return self.model(img)"
      ]
    },
    {
      "cell_type": "markdown",
      "metadata": {
        "id": "723hmdHEBs3s"
      },
      "source": [
        "### Train Super Resolution GAN (SRGAN)"
      ]
    },
    {
      "cell_type": "code",
      "execution_count": null,
      "metadata": {
        "colab": {
          "base_uri": "https://localhost:8080/",
          "height": 82,
          "referenced_widgets": [
            "89353d5e582e42ffa9e453f601953bb5",
            "23a555760dfd4459be7cfc94e7edced1",
            "7ed6abb278ab4ecc95684d3a44d5ad23",
            "a7e54a55b12a4eaba503a7914997c45f",
            "78f6fe9ea54a44ffb69696e7fdab8897",
            "e82a03ce55bc46e69b554ee65664ea39",
            "200f1c2fed854aa0b04a9a27379dff07",
            "bf17a418bc2b4fa98f2ea260aeb60065"
          ]
        },
        "id": "iM3C23ReBs3t",
        "outputId": "ae42d9a9-e109-4dea-8fa5-f968dafdb83d"
      },
      "outputs": [
        {
          "name": "stderr",
          "output_type": "stream",
          "text": [
            "Downloading: \"https://download.pytorch.org/models/vgg19-dcbb9e9d.pth\" to /root/.cache/torch/hub/checkpoints/vgg19-dcbb9e9d.pth\n"
          ]
        },
        {
          "data": {
            "application/vnd.jupyter.widget-view+json": {
              "model_id": "89353d5e582e42ffa9e453f601953bb5",
              "version_major": 2,
              "version_minor": 0
            },
            "text/plain": [
              "HBox(children=(FloatProgress(value=0.0, max=574673361.0), HTML(value='')))"
            ]
          },
          "metadata": {
            "tags": []
          },
          "output_type": "display_data"
        },
        {
          "name": "stdout",
          "output_type": "stream",
          "text": [
            "\n"
          ]
        }
      ],
      "source": [
        "# Initialize generator and discriminator\n",
        "generator = GeneratorResNet()\n",
        "discriminator = Discriminator(input_shape=(channels, *hr_shape))\n",
        "feature_extractor = FeatureExtractor()\n",
        "\n",
        "# Set feature extractor to inference mode\n",
        "feature_extractor.eval()\n",
        "\n",
        "# Losses\n",
        "criterion_GAN = torch.nn.MSELoss()\n",
        "criterion_content = torch.nn.L1Loss()\n",
        "\n",
        "if cuda:\n",
        "    generator = generator.cuda()\n",
        "    discriminator = discriminator.cuda()\n",
        "    feature_extractor = feature_extractor.cuda()\n",
        "    criterion_GAN = criterion_GAN.cuda()\n",
        "    criterion_content = criterion_content.cuda()\n",
        "\n",
        "# Load pretrained models\n",
        "if load_pretrained_models:\n",
        "    generator.load_state_dict(torch.load(\"./drive/MyDrive/saved_models/generator.pth\"))\n",
        "    discriminator.load_state_dict(torch.load(\"./drive/MyDrive/saved_models/discriminator.pth\"))\n",
        "\n",
        "# Optimizers\n",
        "optimizer_G = torch.optim.Adam(generator.parameters(), lr=lr, betas=(b1, b2))\n",
        "optimizer_D = torch.optim.Adam(discriminator.parameters(), lr=lr, betas=(b1, b2))\n",
        "\n",
        "Tensor = torch.cuda.FloatTensor if cuda else torch.Tensor"
      ]
    },
    {
      "cell_type": "code",
      "source": [
        ""
      ],
      "metadata": {
        "id": "irUSMauN5qW0"
      },
      "execution_count": null,
      "outputs": []
    },
    {
      "cell_type": "markdown",
      "source": [
        "Compute psnr and SSIM (quantify reconstruction quality for images)"
      ],
      "metadata": {
        "id": "uIKknDw_5q4s"
      }
    },
    {
      "cell_type": "code",
      "execution_count": null,
      "metadata": {
        "id": "xB6DI-7msGhc"
      },
      "outputs": [],
      "source": [
        "psnr_values = {}\n",
        "ssim_values = {}\n",
        "ms_ssim_values = {}\n",
        "epoch_iter = {}\n",
        "mse_values = {}"
      ]
    },
    {
      "cell_type": "code",
      "execution_count": null,
      "metadata": {
        "id": "w0TGCpdPniZx"
      },
      "outputs": [],
      "source": [
        "def compute_psnr(epoch, i, original_image, generated_image):\n",
        "    rand = random.randint(0,len(original_image)-1)\n",
        "    mse = torch.mean((original_image[rand] - generated_image[rand]) ** 2)\n",
        "    psnr = 20 * torch.log10(255.0 / torch.sqrt(mse))\n",
        "    #psnr_values.append(psnr.item())\n",
        "    psnr_values[i]=psnr.item()\n",
        "    mse_values[i]= mse.cpu().detach().numpy()\n",
        "    epoch_iter[epoch]=i\n",
        "    save_image(generated_image, f\"./drive/MyDrive/vgg/images/generated{i}.png\", normalize=False)\n",
        "    #return psnr.item()"
      ]
    },
    {
      "cell_type": "code",
      "execution_count": null,
      "metadata": {
        "colab": {
          "base_uri": "https://localhost:8080/"
        },
        "id": "b0Rv08BiVC86",
        "outputId": "7ec85cd4-3308-4a2c-83b4-4fb053e7c67b"
      },
      "outputs": [
        {
          "name": "stdout",
          "output_type": "stream",
          "text": [
            "Collecting pytorch-msssim\n",
            "  Downloading https://files.pythonhosted.org/packages/9d/d3/3cb0f397232cf79e1762323c3a8862e39ad53eca0bb5f6be9ccc8e7c070e/pytorch_msssim-0.2.1-py3-none-any.whl\n",
            "Requirement already satisfied: torch in /usr/local/lib/python3.7/dist-packages (from pytorch-msssim) (1.9.0+cu102)\n",
            "Requirement already satisfied: typing-extensions in /usr/local/lib/python3.7/dist-packages (from torch->pytorch-msssim) (3.7.4.3)\n",
            "Installing collected packages: pytorch-msssim\n",
            "Successfully installed pytorch-msssim-0.2.1\n"
          ]
        }
      ],
      "source": [
        "pip install pytorch-msssim"
      ]
    },
    {
      "cell_type": "code",
      "execution_count": null,
      "metadata": {
        "id": "-XUWNJzUt4yK"
      },
      "outputs": [],
      "source": [
        "from pytorch_msssim import ssim, ms_ssim, SSIM, MS_SSIM\n",
        "\n",
        "\n",
        "# X: (N,3,H,W) a batch of non-negative RGB images (0~255)\n",
        "# Y: (N,3,H,W)\n",
        "\n",
        "# calculate ssim & ms-ssim for each image\n",
        "def compute_ssim(i, original, generated):\n",
        "    X = original\n",
        "    Y = generated\n",
        "\n",
        "    ssim_val = ssim(X, Y, data_range=255, size_average=False)  # return (N,)\n",
        "    ms_ssim_val = ms_ssim(X, Y, data_range=255, size_average=False)  # (N,)\n",
        "\n",
        "    # set 'size_average=True' to get a scalar value as loss. see tests/tests_loss.py for more details\n",
        "    ssim_loss = 1 - ssim(X, Y, data_range=255, size_average=True)  # return a scalar\n",
        "    ms_ssim_loss = 1 - ms_ssim(X, Y, data_range=255, size_average=True)\n",
        "\n",
        "    # reuse the gaussian kernel with SSIM & MS_SSIM.\n",
        "    ssim_module = SSIM(data_range=255, size_average=True, channel=3)\n",
        "    ms_ssim_module = MS_SSIM(data_range=255, size_average=True, channel=3)\n",
        "\n",
        "    ssim_loss = 1 - ssim_module(X, Y)\n",
        "    ms_ssim_loss = 1 - ms_ssim_module(X, Y)\n",
        "    # X: (N,3,H,W) a batch of normalized images (-1 ~ 1)\n",
        "    # Y: (N,3,H,W)\n",
        "    X = (X + 1) / 2  # [-1, 1] => [0, 1]\n",
        "    Y = (Y + 1) / 2\n",
        "    ms_ssim_val = ms_ssim(X, Y, data_range=1, size_average=False)  # (N,)\n",
        "    ssim_values[i] = ssim_loss.item()\n",
        "    ms_ssim_values[i]= ms_ssim_val.cpu().detach().numpy()\n",
        "    #return ssim_loss.item()\n",
        "\n",
        "\n"
      ]
    },
    {
      "cell_type": "code",
      "execution_count": null,
      "metadata": {
        "colab": {
          "background_save": true,
          "base_uri": "https://localhost:8080/",
          "height": 146,
          "referenced_widgets": [
            "9b96ca2ba5fd4360a7bb82ac11a5398d",
            "ce84f7bb930f43f988edebc8671802bc",
            "cbc41248186c44ab832205e54e1704a4",
            "7195f5c8675248ce94b09a6316ecbcf0",
            "813d8ded81af4be0aa8ea75f7168dcf7",
            "1420ce58ddb643f8bac589a4488ce6e6",
            "db70dd7899eb414fb6461302c25a97d0",
            "2f3416fc0061446ea32e74e619a9d1f0",
            "f9e552f9bd614842b44007b149205875",
            "a9ca76836f654ae68700ef4b056a8743",
            "1105b9f967d140078e0e70f2b53181a5",
            "bd0811e56c1f469d9de0d458902f3532",
            "476d7dd346654461ac73dce670df4a47",
            "55994511d3514c2fa8af5883bb762018",
            "627039a93b8b47ec90a96107e8152914",
            "3b027f36327342919844673d477bfc93",
            "9ab140fb47a242988aeae2d9f84cffcd",
            "14d200fb6ac5470bbe8dbe3ab4e84869",
            "6688ace3f40641898e7fd700aa511802",
            "303ee523d75f48c5bf7dde984df9d7e1",
            "f835dcf8c4504229995315eabeb894f6",
            "fb8faf2bb9fb4955841177f11d49917c",
            "2d12f494563140a7b804444b250005a5",
            "e29326fa4225410489d357dc03681400",
            "7fd757c682b94c84aa3f1b474cebae78",
            "953b1005f66a4cd98ab20b6d15b6a05d"
          ]
        },
        "id": "4PR-4gZZLCum",
        "outputId": "ddb08206-dddc-484f-e3d8-563c0afdbdef"
      },
      "outputs": [
        {
          "data": {
            "application/vnd.jupyter.widget-view+json": {
              "model_id": "9b96ca2ba5fd4360a7bb82ac11a5398d",
              "version_major": 2,
              "version_minor": 0
            },
            "text/plain": [
              "HBox(children=(FloatProgress(value=0.0, description='Training Epoch 0 ', max=2932.0, style=ProgressStyle(descr…"
            ]
          },
          "metadata": {},
          "output_type": "display_data"
        },
        {
          "name": "stdout",
          "output_type": "stream",
          "text": [
            "\n"
          ]
        },
        {
          "data": {
            "application/vnd.jupyter.widget-view+json": {
              "model_id": "f9e552f9bd614842b44007b149205875",
              "version_major": 2,
              "version_minor": 0
            },
            "text/plain": [
              "HBox(children=(FloatProgress(value=0.0, description='Testing Epoch 0 ', max=80.0, style=ProgressStyle(descript…"
            ]
          },
          "metadata": {},
          "output_type": "display_data"
        },
        {
          "name": "stdout",
          "output_type": "stream",
          "text": [
            "\n"
          ]
        },
        {
          "data": {
            "application/vnd.jupyter.widget-view+json": {
              "model_id": "9ab140fb47a242988aeae2d9f84cffcd",
              "version_major": 2,
              "version_minor": 0
            },
            "text/plain": [
              "HBox(children=(FloatProgress(value=0.0, description='Training Epoch 1 ', max=2932.0, style=ProgressStyle(descr…"
            ]
          },
          "metadata": {},
          "output_type": "display_data"
        },
        {
          "name": "stdout",
          "output_type": "stream",
          "text": [
            "\n"
          ]
        },
        {
          "data": {
            "application/vnd.jupyter.widget-view+json": {
              "model_id": "7fd757c682b94c84aa3f1b474cebae78",
              "version_major": 2,
              "version_minor": 0
            },
            "text/plain": [
              "HBox(children=(FloatProgress(value=0.0, description='Testing Epoch 1 ', max=80.0, style=ProgressStyle(descript…"
            ]
          },
          "metadata": {},
          "output_type": "display_data"
        },
        {
          "name": "stdout",
          "output_type": "stream",
          "text": [
            "\n"
          ]
        },
        {
          "data": {
            "application/vnd.jupyter.widget-view+json": {
              "model_id": "953b1005f66a4cd98ab20b6d15b6a05d",
              "version_major": 2,
              "version_minor": 0
            },
            "text/plain": [
              "HBox(children=(FloatProgress(value=0.0, description='Training Epoch 2 ', max=2932.0, style=ProgressStyle(descr…"
            ]
          },
          "metadata": {},
          "output_type": "display_data"
        }
      ],
      "source": [
        "train_gen_losses, train_disc_losses, train_counter = [], [], []\n",
        "test_gen_losses, test_disc_losses = [], []\n",
        "test_counter = [idx*len(train_dataloader.dataset) for idx in range(1, n_epochs+1)]\n",
        "i = 0\n",
        "for epoch in range(n_epochs):\n",
        "\n",
        "    ### Training\n",
        "    gen_loss, disc_loss = 0, 0\n",
        "    tqdm_bar = tqdm(train_dataloader, desc=f'Training Epoch {epoch} ', total=int(len(train_dataloader)))\n",
        "    for batch_idx, imgs in enumerate(tqdm_bar):\n",
        "        generator.train(); discriminator.train()\n",
        "        # Configure model input\n",
        "        imgs_lr = Variable(imgs[\"lr\"].type(Tensor))\n",
        "        imgs_hr = Variable(imgs[\"hr\"].type(Tensor))\n",
        "        # Adversarial ground truths\n",
        "        valid = Variable(Tensor(np.ones((imgs_lr.size(0), *discriminator.output_shape))), requires_grad=False)\n",
        "        fake = Variable(Tensor(np.zeros((imgs_lr.size(0), *discriminator.output_shape))), requires_grad=False)\n",
        "        \n",
        "        ### Train Generator\n",
        "        optimizer_G.zero_grad()\n",
        "        # Generate a high resolution image from low resolution input\n",
        "        gen_hr = generator(imgs_lr)\n",
        "        # Adversarial loss\n",
        "        loss_GAN = criterion_GAN(discriminator(gen_hr), valid)\n",
        "        # Content loss\n",
        "        gen_features = feature_extractor(gen_hr)\n",
        "        real_features = feature_extractor(imgs_hr)\n",
        "        loss_content = criterion_content(gen_features, real_features.detach())\n",
        "        # Total loss\n",
        "        loss_G = loss_content + 1e-3 * loss_GAN\n",
        "        loss_G.backward()\n",
        "        optimizer_G.step()\n",
        "\n",
        "        ### Train Discriminator\n",
        "        optimizer_D.zero_grad()\n",
        "        # Loss of real and fake images\n",
        "        loss_real = criterion_GAN(discriminator(imgs_hr), valid)\n",
        "        loss_fake = criterion_GAN(discriminator(gen_hr.detach()), fake)\n",
        "        # Total loss\n",
        "        loss_D = (loss_real + loss_fake) / 2\n",
        "        loss_D.backward()\n",
        "        optimizer_D.step()\n",
        "\n",
        "        gen_loss += loss_G.item()\n",
        "        train_gen_losses.append(loss_G.item())\n",
        "        disc_loss += loss_D.item()\n",
        "        train_disc_losses.append(loss_D.item())\n",
        "        train_counter.append(batch_idx*batch_size + imgs_lr.size(0) + epoch*len(train_dataloader.dataset))\n",
        "        tqdm_bar.set_postfix(gen_loss=gen_loss/(batch_idx+1), disc_loss=disc_loss/(batch_idx+1))\n",
        "\n",
        "    # Testing\n",
        "    gen_loss, disc_loss = 0, 0\n",
        "    tqdm_bar = tqdm(test_dataloader, desc=f'Testing Epoch {epoch} ', total=int(len(test_dataloader)))\n",
        "    for batch_idx, imgs in enumerate(tqdm_bar):\n",
        "        generator.eval(); discriminator.eval()\n",
        "        # Configure model input\n",
        "        imgs_lr = Variable(imgs[\"lr\"].type(Tensor))\n",
        "        imgs_hr = Variable(imgs[\"hr\"].type(Tensor))\n",
        "        # Adversarial ground truths\n",
        "        valid = Variable(Tensor(np.ones((imgs_lr.size(0), *discriminator.output_shape))), requires_grad=False)\n",
        "        fake = Variable(Tensor(np.zeros((imgs_lr.size(0), *discriminator.output_shape))), requires_grad=False)\n",
        "        \n",
        "        ### Eval Generator\n",
        "        # Generate a high resolution image from low resolution input\n",
        "        gen_hr = generator(imgs_lr)\n",
        "        # Adversarial loss\n",
        "        loss_GAN = criterion_GAN(discriminator(gen_hr), valid)\n",
        "        # Content loss\n",
        "        gen_features = feature_extractor(gen_hr)\n",
        "        real_features = feature_extractor(imgs_hr)\n",
        "        loss_content = criterion_content(gen_features, real_features.detach())\n",
        "        # Total loss\n",
        "        loss_G = loss_content + 1e-3 * loss_GAN\n",
        "\n",
        "        ### Eval Discriminator\n",
        "        # Loss of real and fake images\n",
        "        loss_real = criterion_GAN(discriminator(imgs_hr), valid)\n",
        "        loss_fake = criterion_GAN(discriminator(gen_hr.detach()), fake)\n",
        "        # Total loss\n",
        "        loss_D = (loss_real + loss_fake) / 2\n",
        "\n",
        "        gen_loss += loss_G.item()\n",
        "        disc_loss += loss_D.item()\n",
        "        compute_psnr(epoch, i,imgs_hr, gen_hr)\n",
        "        compute_ssim(i, imgs_hr, gen_hr)\n",
        "        i+=1\n",
        "        tqdm_bar.set_postfix(gen_loss=gen_loss/(batch_idx+1), disc_loss=disc_loss/(batch_idx+1))\n",
        "        \n",
        "        # Save image grid with upsampled inputs and SRGAN outputs\n",
        "        if random.uniform(0,1)<0.1:\n",
        "            imgs_lr = nn.functional.interpolate(imgs_lr, scale_factor=4)\n",
        "            imgs_hr = make_grid(imgs_hr, nrow=1, normalize=True)\n",
        "            gen_hr = make_grid(gen_hr, nrow=1, normalize=True)\n",
        "            imgs_lr = make_grid(imgs_lr, nrow=1, normalize=True)\n",
        "            img_grid = torch.cat((imgs_hr, imgs_lr, gen_hr), -1)\n",
        "            save_image(img_grid, f\"./drive/MyDrive/vgg/{batch_idx}.png\", normalize=False)\n",
        "\n",
        "    test_gen_losses.append(gen_loss/len(test_dataloader))\n",
        "    test_disc_losses.append(disc_loss/len(test_dataloader))\n",
        "    \n",
        "    # Save model checkpoints\n",
        "    if np.argmin(test_gen_losses) == len(test_gen_losses)-1:\n",
        "        torch.save(generator.state_dict(), \"./drive/MyDrive/vgg/generator.pth\")\n",
        "        torch.save(discriminator.state_dict(), \"./drive/MyDrive/vgg/discriminator.pth\")\n",
        "        "
      ]
    },
    {
      "cell_type": "code",
      "execution_count": null,
      "metadata": {
        "id": "UVRkJsKm4cOP"
      },
      "outputs": [],
      "source": [
        "fig = go.Figure()\n",
        "fig.add_trace(go.Scatter(x=train_counter, y=train_gen_losses, mode='lines', name='Train Generator Loss'))\n",
        "fig.add_trace(go.Scatter(x=test_counter, y=test_gen_losses, marker_symbol='star-diamond', \n",
        "                         marker_color='orange', marker_line_width=1, marker_size=9, mode='markers', name='Test Generator Loss'))\n",
        "fig.update_layout(\n",
        "    width=1000,\n",
        "    height=500,\n",
        "    title=\"Train vs. Test Generator Loss\",\n",
        "    xaxis_title=\"Number of training examples seen\",\n",
        "    yaxis_title=\"Adversarial + Content Loss\"),\n",
        "fig.show()"
      ]
    },
    {
      "cell_type": "code",
      "execution_count": null,
      "metadata": {
        "id": "5qrDNYZGBs3u"
      },
      "outputs": [],
      "source": [
        "fig = go.Figure()\n",
        "fig.add_trace(go.Scatter(x=train_counter, y=train_disc_losses, mode='lines', name='Train Discriminator Loss'))\n",
        "fig.add_trace(go.Scatter(x=test_counter, y=test_disc_losses, marker_symbol='star-diamond', \n",
        "                         marker_color='orange', marker_line_width=1, marker_size=9, mode='markers', name='Test Discriminator Loss'))\n",
        "fig.update_layout(\n",
        "    width=1000,\n",
        "    height=500,\n",
        "    title=\"Train vs. Test Discriminator Loss\",\n",
        "    xaxis_title=\"Number of training examples seen\",\n",
        "    yaxis_title=\"Adversarial Loss\"),\n",
        "fig.show()"
      ]
    },
    {
      "cell_type": "code",
      "execution_count": null,
      "metadata": {
        "id": "LQKf5oJaiTs_"
      },
      "outputs": [],
      "source": [
        "import matplotlib.pyplot as plt"
      ]
    },
    {
      "cell_type": "code",
      "execution_count": null,
      "metadata": {
        "id": "WWmVdfV9iV2j"
      },
      "outputs": [],
      "source": [
        "plt.plot(list(psnr_values.keys()),list(psnr_values.values()))\n",
        "plt.title('PSNR ')\n",
        "plt.ylabel('psnr')\n",
        "plt.xlabel('iteration')\n",
        "plt.legend(['psnr'], loc='upper left')\n",
        "#plt.savefig('ID modelo: model accuracy.png')\n",
        "#plt.clf()\n",
        "plt.show()"
      ]
    },
    {
      "cell_type": "code",
      "execution_count": null,
      "metadata": {
        "id": "1eZjsAhZihBO"
      },
      "outputs": [],
      "source": [
        "plt.plot(list(ssim_values.keys()),list(ssim_values.values()))\n",
        "plt.title('SSIM')\n",
        "plt.ylabel('ssim')\n",
        "plt.xlabel('iteration')\n",
        "plt.legend(['ssim'], loc='upper left')\n",
        "#plt.savefig('ID modelo: model accuracy.png')\n",
        "#plt.clf()\n",
        "plt.show()"
      ]
    },
    {
      "cell_type": "code",
      "execution_count": null,
      "metadata": {
        "id": "LtlOfR63isCZ"
      },
      "outputs": [],
      "source": [
        "plt.plot(list(mse_values.keys()),list(mse_values.values()))\n",
        "plt.title('MSE')\n",
        "plt.ylabel('mse')\n",
        "plt.xlabel('iteration')\n",
        "plt.legend(['mse'], loc='upper left')\n",
        "#plt.savefig('ID modelo: model accuracy.png')\n",
        "#plt.clf()\n",
        "plt.show()"
      ]
    },
    {
      "cell_type": "code",
      "execution_count": null,
      "metadata": {
        "id": "EhXWEXf-jEqx"
      },
      "outputs": [],
      "source": [
        "plt.plot(list(ms_ssim_values.keys()),list(ms_ssim_values.values()))\n",
        "plt.title('MSSSIM')\n",
        "plt.ylabel('msssim')\n",
        "plt.xlabel('iteration')\n",
        "plt.legend(['train', 'test'], loc='upper left')\n",
        "#plt.savefig('ID modelo: model accuracy.png')\n",
        "#plt.clf()\n",
        "plt.show()"
      ]
    },
    {
      "cell_type": "code",
      "execution_count": null,
      "metadata": {
        "id": "Q3ex4kUhivr3"
      },
      "outputs": [],
      "source": [
        "psnr_values"
      ]
    },
    {
      "cell_type": "code",
      "execution_count": null,
      "metadata": {
        "id": "zmC6W-cli18E"
      },
      "outputs": [],
      "source": [
        "ssim_values"
      ]
    },
    {
      "cell_type": "code",
      "execution_count": null,
      "metadata": {
        "id": "ZJZeYfJhi3gk"
      },
      "outputs": [],
      "source": [
        "ms_ssim_values"
      ]
    },
    {
      "cell_type": "code",
      "execution_count": null,
      "metadata": {
        "id": "B7YQxX96i_RI"
      },
      "outputs": [],
      "source": [
        "epoch_iter"
      ]
    },
    {
      "cell_type": "markdown",
      "metadata": {
        "id": "iWj4unlwB7Pa"
      },
      "source": [
        ""
      ]
    },
    {
      "cell_type": "code",
      "execution_count": null,
      "metadata": {
        "id": "Vg6BKJxhiZrT"
      },
      "outputs": [],
      "source": [
        "mse_values"
      ]
    }
  ],
  "metadata": {
    "accelerator": "GPU",
    "colab": {
      "collapsed_sections": [],
      "name": "sr_final_vgg (1).ipynb",
      "provenance": []
    },
    "kernelspec": {
      "display_name": "Python 3",
      "language": "python",
      "name": "python3"
    },
    "language_info": {
      "codemirror_mode": {
        "name": "ipython",
        "version": 3
      },
      "file_extension": ".py",
      "mimetype": "text/x-python",
      "name": "python",
      "nbconvert_exporter": "python",
      "pygments_lexer": "ipython3",
      "version": "3.9.5"
    },
    "widgets": {
      "application/vnd.jupyter.widget-state+json": {
        "1105b9f967d140078e0e70f2b53181a5": {
          "model_module": "@jupyter-widgets/controls",
          "model_name": "HTMLModel",
          "state": {
            "_dom_classes": [],
            "_model_module": "@jupyter-widgets/controls",
            "_model_module_version": "1.5.0",
            "_model_name": "HTMLModel",
            "_view_count": null,
            "_view_module": "@jupyter-widgets/controls",
            "_view_module_version": "1.5.0",
            "_view_name": "HTMLView",
            "description": "",
            "description_tooltip": null,
            "layout": "IPY_MODEL_627039a93b8b47ec90a96107e8152914",
            "placeholder": "​",
            "style": "IPY_MODEL_3b027f36327342919844673d477bfc93",
            "value": " 80/80 [01:42&lt;00:00,  1.29s/it, disc_loss=0.303, gen_loss=0.617]"
          },
          "model_module_version": "1.5.0"
        },
        "1420ce58ddb643f8bac589a4488ce6e6": {
          "model_module": "@jupyter-widgets/controls",
          "model_name": "ProgressStyleModel",
          "state": {
            "_model_module": "@jupyter-widgets/controls",
            "_model_module_version": "1.5.0",
            "_model_name": "ProgressStyleModel",
            "_view_count": null,
            "_view_module": "@jupyter-widgets/base",
            "_view_module_version": "1.2.0",
            "_view_name": "StyleView",
            "bar_color": null,
            "description_width": "initial"
          },
          "model_module_version": "1.5.0"
        },
        "14d200fb6ac5470bbe8dbe3ab4e84869": {
          "model_module": "@jupyter-widgets/controls",
          "model_name": "FloatProgressModel",
          "state": {
            "_dom_classes": [],
            "_model_module": "@jupyter-widgets/controls",
            "_model_module_version": "1.5.0",
            "_model_name": "FloatProgressModel",
            "_view_count": null,
            "_view_module": "@jupyter-widgets/controls",
            "_view_module_version": "1.5.0",
            "_view_name": "ProgressView",
            "bar_style": "",
            "description": "Training Epoch 1 :   0%",
            "description_tooltip": null,
            "layout": "IPY_MODEL_f835dcf8c4504229995315eabeb894f6",
            "max": 2932,
            "min": 0,
            "orientation": "horizontal",
            "style": "IPY_MODEL_fb8faf2bb9fb4955841177f11d49917c",
            "value": 12
          },
          "model_module_version": "1.5.0"
        },
        "200f1c2fed854aa0b04a9a27379dff07": {
          "model_module": "@jupyter-widgets/base",
          "model_name": "LayoutModel",
          "state": {
            "_model_module": "@jupyter-widgets/base",
            "_model_module_version": "1.2.0",
            "_model_name": "LayoutModel",
            "_view_count": null,
            "_view_module": "@jupyter-widgets/base",
            "_view_module_version": "1.2.0",
            "_view_name": "LayoutView",
            "align_content": null,
            "align_items": null,
            "align_self": null,
            "border": null,
            "bottom": null,
            "display": null,
            "flex": null,
            "flex_flow": null,
            "grid_area": null,
            "grid_auto_columns": null,
            "grid_auto_flow": null,
            "grid_auto_rows": null,
            "grid_column": null,
            "grid_gap": null,
            "grid_row": null,
            "grid_template_areas": null,
            "grid_template_columns": null,
            "grid_template_rows": null,
            "height": null,
            "justify_content": null,
            "justify_items": null,
            "left": null,
            "margin": null,
            "max_height": null,
            "max_width": null,
            "min_height": null,
            "min_width": null,
            "object_fit": null,
            "object_position": null,
            "order": null,
            "overflow": null,
            "overflow_x": null,
            "overflow_y": null,
            "padding": null,
            "right": null,
            "top": null,
            "visibility": null,
            "width": null
          },
          "model_module_version": "1.2.0"
        },
        "23a555760dfd4459be7cfc94e7edced1": {
          "model_module": "@jupyter-widgets/controls",
          "model_name": "FloatProgressModel",
          "state": {
            "_dom_classes": [],
            "_model_module": "@jupyter-widgets/controls",
            "_model_module_version": "1.5.0",
            "_model_name": "FloatProgressModel",
            "_view_count": null,
            "_view_module": "@jupyter-widgets/controls",
            "_view_module_version": "1.5.0",
            "_view_name": "ProgressView",
            "bar_style": "success",
            "description": "100%",
            "description_tooltip": null,
            "layout": "IPY_MODEL_78f6fe9ea54a44ffb69696e7fdab8897",
            "max": 574673361,
            "min": 0,
            "orientation": "horizontal",
            "style": "IPY_MODEL_e82a03ce55bc46e69b554ee65664ea39",
            "value": 574673361
          },
          "model_module_version": "1.5.0"
        },
        "2d12f494563140a7b804444b250005a5": {
          "model_module": "@jupyter-widgets/base",
          "model_name": "LayoutModel",
          "state": {
            "_model_module": "@jupyter-widgets/base",
            "_model_module_version": "1.2.0",
            "_model_name": "LayoutModel",
            "_view_count": null,
            "_view_module": "@jupyter-widgets/base",
            "_view_module_version": "1.2.0",
            "_view_name": "LayoutView",
            "align_content": null,
            "align_items": null,
            "align_self": null,
            "border": null,
            "bottom": null,
            "display": null,
            "flex": null,
            "flex_flow": null,
            "grid_area": null,
            "grid_auto_columns": null,
            "grid_auto_flow": null,
            "grid_auto_rows": null,
            "grid_column": null,
            "grid_gap": null,
            "grid_row": null,
            "grid_template_areas": null,
            "grid_template_columns": null,
            "grid_template_rows": null,
            "height": null,
            "justify_content": null,
            "justify_items": null,
            "left": null,
            "margin": null,
            "max_height": null,
            "max_width": null,
            "min_height": null,
            "min_width": null,
            "object_fit": null,
            "object_position": null,
            "order": null,
            "overflow": null,
            "overflow_x": null,
            "overflow_y": null,
            "padding": null,
            "right": null,
            "top": null,
            "visibility": null,
            "width": null
          },
          "model_module_version": "1.2.0"
        },
        "2f3416fc0061446ea32e74e619a9d1f0": {
          "model_module": "@jupyter-widgets/controls",
          "model_name": "DescriptionStyleModel",
          "state": {
            "_model_module": "@jupyter-widgets/controls",
            "_model_module_version": "1.5.0",
            "_model_name": "DescriptionStyleModel",
            "_view_count": null,
            "_view_module": "@jupyter-widgets/base",
            "_view_module_version": "1.2.0",
            "_view_name": "StyleView",
            "description_width": ""
          },
          "model_module_version": "1.5.0"
        },
        "303ee523d75f48c5bf7dde984df9d7e1": {
          "model_module": "@jupyter-widgets/base",
          "model_name": "LayoutModel",
          "state": {
            "_model_module": "@jupyter-widgets/base",
            "_model_module_version": "1.2.0",
            "_model_name": "LayoutModel",
            "_view_count": null,
            "_view_module": "@jupyter-widgets/base",
            "_view_module_version": "1.2.0",
            "_view_name": "LayoutView",
            "align_content": null,
            "align_items": null,
            "align_self": null,
            "border": null,
            "bottom": null,
            "display": null,
            "flex": null,
            "flex_flow": null,
            "grid_area": null,
            "grid_auto_columns": null,
            "grid_auto_flow": null,
            "grid_auto_rows": null,
            "grid_column": null,
            "grid_gap": null,
            "grid_row": null,
            "grid_template_areas": null,
            "grid_template_columns": null,
            "grid_template_rows": null,
            "height": null,
            "justify_content": null,
            "justify_items": null,
            "left": null,
            "margin": null,
            "max_height": null,
            "max_width": null,
            "min_height": null,
            "min_width": null,
            "object_fit": null,
            "object_position": null,
            "order": null,
            "overflow": null,
            "overflow_x": null,
            "overflow_y": null,
            "padding": null,
            "right": null,
            "top": null,
            "visibility": null,
            "width": null
          },
          "model_module_version": "1.2.0"
        },
        "3b027f36327342919844673d477bfc93": {
          "model_module": "@jupyter-widgets/controls",
          "model_name": "DescriptionStyleModel",
          "state": {
            "_model_module": "@jupyter-widgets/controls",
            "_model_module_version": "1.5.0",
            "_model_name": "DescriptionStyleModel",
            "_view_count": null,
            "_view_module": "@jupyter-widgets/base",
            "_view_module_version": "1.2.0",
            "_view_name": "StyleView",
            "description_width": ""
          },
          "model_module_version": "1.5.0"
        },
        "476d7dd346654461ac73dce670df4a47": {
          "model_module": "@jupyter-widgets/base",
          "model_name": "LayoutModel",
          "state": {
            "_model_module": "@jupyter-widgets/base",
            "_model_module_version": "1.2.0",
            "_model_name": "LayoutModel",
            "_view_count": null,
            "_view_module": "@jupyter-widgets/base",
            "_view_module_version": "1.2.0",
            "_view_name": "LayoutView",
            "align_content": null,
            "align_items": null,
            "align_self": null,
            "border": null,
            "bottom": null,
            "display": null,
            "flex": null,
            "flex_flow": null,
            "grid_area": null,
            "grid_auto_columns": null,
            "grid_auto_flow": null,
            "grid_auto_rows": null,
            "grid_column": null,
            "grid_gap": null,
            "grid_row": null,
            "grid_template_areas": null,
            "grid_template_columns": null,
            "grid_template_rows": null,
            "height": null,
            "justify_content": null,
            "justify_items": null,
            "left": null,
            "margin": null,
            "max_height": null,
            "max_width": null,
            "min_height": null,
            "min_width": null,
            "object_fit": null,
            "object_position": null,
            "order": null,
            "overflow": null,
            "overflow_x": null,
            "overflow_y": null,
            "padding": null,
            "right": null,
            "top": null,
            "visibility": null,
            "width": null
          },
          "model_module_version": "1.2.0"
        },
        "55994511d3514c2fa8af5883bb762018": {
          "model_module": "@jupyter-widgets/controls",
          "model_name": "ProgressStyleModel",
          "state": {
            "_model_module": "@jupyter-widgets/controls",
            "_model_module_version": "1.5.0",
            "_model_name": "ProgressStyleModel",
            "_view_count": null,
            "_view_module": "@jupyter-widgets/base",
            "_view_module_version": "1.2.0",
            "_view_name": "StyleView",
            "bar_color": null,
            "description_width": "initial"
          },
          "model_module_version": "1.5.0"
        },
        "627039a93b8b47ec90a96107e8152914": {
          "model_module": "@jupyter-widgets/base",
          "model_name": "LayoutModel",
          "state": {
            "_model_module": "@jupyter-widgets/base",
            "_model_module_version": "1.2.0",
            "_model_name": "LayoutModel",
            "_view_count": null,
            "_view_module": "@jupyter-widgets/base",
            "_view_module_version": "1.2.0",
            "_view_name": "LayoutView",
            "align_content": null,
            "align_items": null,
            "align_self": null,
            "border": null,
            "bottom": null,
            "display": null,
            "flex": null,
            "flex_flow": null,
            "grid_area": null,
            "grid_auto_columns": null,
            "grid_auto_flow": null,
            "grid_auto_rows": null,
            "grid_column": null,
            "grid_gap": null,
            "grid_row": null,
            "grid_template_areas": null,
            "grid_template_columns": null,
            "grid_template_rows": null,
            "height": null,
            "justify_content": null,
            "justify_items": null,
            "left": null,
            "margin": null,
            "max_height": null,
            "max_width": null,
            "min_height": null,
            "min_width": null,
            "object_fit": null,
            "object_position": null,
            "order": null,
            "overflow": null,
            "overflow_x": null,
            "overflow_y": null,
            "padding": null,
            "right": null,
            "top": null,
            "visibility": null,
            "width": null
          },
          "model_module_version": "1.2.0"
        },
        "6688ace3f40641898e7fd700aa511802": {
          "model_module": "@jupyter-widgets/controls",
          "model_name": "HTMLModel",
          "state": {
            "_dom_classes": [],
            "_model_module": "@jupyter-widgets/controls",
            "_model_module_version": "1.5.0",
            "_model_name": "HTMLModel",
            "_view_count": null,
            "_view_module": "@jupyter-widgets/controls",
            "_view_module_version": "1.5.0",
            "_view_name": "HTMLView",
            "description": "",
            "description_tooltip": null,
            "layout": "IPY_MODEL_2d12f494563140a7b804444b250005a5",
            "placeholder": "​",
            "style": "IPY_MODEL_e29326fa4225410489d357dc03681400",
            "value": " 12/2932 [00:24&lt;1:35:00,  1.95s/it, disc_loss=0.000731, gen_loss=0.612]"
          },
          "model_module_version": "1.5.0"
        },
        "7195f5c8675248ce94b09a6316ecbcf0": {
          "model_module": "@jupyter-widgets/base",
          "model_name": "LayoutModel",
          "state": {
            "_model_module": "@jupyter-widgets/base",
            "_model_module_version": "1.2.0",
            "_model_name": "LayoutModel",
            "_view_count": null,
            "_view_module": "@jupyter-widgets/base",
            "_view_module_version": "1.2.0",
            "_view_name": "LayoutView",
            "align_content": null,
            "align_items": null,
            "align_self": null,
            "border": null,
            "bottom": null,
            "display": null,
            "flex": null,
            "flex_flow": null,
            "grid_area": null,
            "grid_auto_columns": null,
            "grid_auto_flow": null,
            "grid_auto_rows": null,
            "grid_column": null,
            "grid_gap": null,
            "grid_row": null,
            "grid_template_areas": null,
            "grid_template_columns": null,
            "grid_template_rows": null,
            "height": null,
            "justify_content": null,
            "justify_items": null,
            "left": null,
            "margin": null,
            "max_height": null,
            "max_width": null,
            "min_height": null,
            "min_width": null,
            "object_fit": null,
            "object_position": null,
            "order": null,
            "overflow": null,
            "overflow_x": null,
            "overflow_y": null,
            "padding": null,
            "right": null,
            "top": null,
            "visibility": null,
            "width": null
          },
          "model_module_version": "1.2.0"
        },
        "78f6fe9ea54a44ffb69696e7fdab8897": {
          "model_module": "@jupyter-widgets/base",
          "model_name": "LayoutModel",
          "state": {
            "_model_module": "@jupyter-widgets/base",
            "_model_module_version": "1.2.0",
            "_model_name": "LayoutModel",
            "_view_count": null,
            "_view_module": "@jupyter-widgets/base",
            "_view_module_version": "1.2.0",
            "_view_name": "LayoutView",
            "align_content": null,
            "align_items": null,
            "align_self": null,
            "border": null,
            "bottom": null,
            "display": null,
            "flex": null,
            "flex_flow": null,
            "grid_area": null,
            "grid_auto_columns": null,
            "grid_auto_flow": null,
            "grid_auto_rows": null,
            "grid_column": null,
            "grid_gap": null,
            "grid_row": null,
            "grid_template_areas": null,
            "grid_template_columns": null,
            "grid_template_rows": null,
            "height": null,
            "justify_content": null,
            "justify_items": null,
            "left": null,
            "margin": null,
            "max_height": null,
            "max_width": null,
            "min_height": null,
            "min_width": null,
            "object_fit": null,
            "object_position": null,
            "order": null,
            "overflow": null,
            "overflow_x": null,
            "overflow_y": null,
            "padding": null,
            "right": null,
            "top": null,
            "visibility": null,
            "width": null
          },
          "model_module_version": "1.2.0"
        },
        "7ed6abb278ab4ecc95684d3a44d5ad23": {
          "model_module": "@jupyter-widgets/controls",
          "model_name": "HTMLModel",
          "state": {
            "_dom_classes": [],
            "_model_module": "@jupyter-widgets/controls",
            "_model_module_version": "1.5.0",
            "_model_name": "HTMLModel",
            "_view_count": null,
            "_view_module": "@jupyter-widgets/controls",
            "_view_module_version": "1.5.0",
            "_view_name": "HTMLView",
            "description": "",
            "description_tooltip": null,
            "layout": "IPY_MODEL_200f1c2fed854aa0b04a9a27379dff07",
            "placeholder": "​",
            "style": "IPY_MODEL_bf17a418bc2b4fa98f2ea260aeb60065",
            "value": " 548M/548M [00:04&lt;00:00, 126MB/s]"
          },
          "model_module_version": "1.5.0"
        },
        "813d8ded81af4be0aa8ea75f7168dcf7": {
          "model_module": "@jupyter-widgets/base",
          "model_name": "LayoutModel",
          "state": {
            "_model_module": "@jupyter-widgets/base",
            "_model_module_version": "1.2.0",
            "_model_name": "LayoutModel",
            "_view_count": null,
            "_view_module": "@jupyter-widgets/base",
            "_view_module_version": "1.2.0",
            "_view_name": "LayoutView",
            "align_content": null,
            "align_items": null,
            "align_self": null,
            "border": null,
            "bottom": null,
            "display": null,
            "flex": null,
            "flex_flow": null,
            "grid_area": null,
            "grid_auto_columns": null,
            "grid_auto_flow": null,
            "grid_auto_rows": null,
            "grid_column": null,
            "grid_gap": null,
            "grid_row": null,
            "grid_template_areas": null,
            "grid_template_columns": null,
            "grid_template_rows": null,
            "height": null,
            "justify_content": null,
            "justify_items": null,
            "left": null,
            "margin": null,
            "max_height": null,
            "max_width": null,
            "min_height": null,
            "min_width": null,
            "object_fit": null,
            "object_position": null,
            "order": null,
            "overflow": null,
            "overflow_x": null,
            "overflow_y": null,
            "padding": null,
            "right": null,
            "top": null,
            "visibility": null,
            "width": null
          },
          "model_module_version": "1.2.0"
        },
        "89353d5e582e42ffa9e453f601953bb5": {
          "model_module": "@jupyter-widgets/controls",
          "model_name": "HBoxModel",
          "state": {
            "_dom_classes": [],
            "_model_module": "@jupyter-widgets/controls",
            "_model_module_version": "1.5.0",
            "_model_name": "HBoxModel",
            "_view_count": null,
            "_view_module": "@jupyter-widgets/controls",
            "_view_module_version": "1.5.0",
            "_view_name": "HBoxView",
            "box_style": "",
            "children": [
              "IPY_MODEL_23a555760dfd4459be7cfc94e7edced1",
              "IPY_MODEL_7ed6abb278ab4ecc95684d3a44d5ad23"
            ],
            "layout": "IPY_MODEL_a7e54a55b12a4eaba503a7914997c45f"
          },
          "model_module_version": "1.5.0"
        },
        "9ab140fb47a242988aeae2d9f84cffcd": {
          "model_module": "@jupyter-widgets/controls",
          "model_name": "HBoxModel",
          "state": {
            "_dom_classes": [],
            "_model_module": "@jupyter-widgets/controls",
            "_model_module_version": "1.5.0",
            "_model_name": "HBoxModel",
            "_view_count": null,
            "_view_module": "@jupyter-widgets/controls",
            "_view_module_version": "1.5.0",
            "_view_name": "HBoxView",
            "box_style": "",
            "children": [
              "IPY_MODEL_14d200fb6ac5470bbe8dbe3ab4e84869",
              "IPY_MODEL_6688ace3f40641898e7fd700aa511802"
            ],
            "layout": "IPY_MODEL_303ee523d75f48c5bf7dde984df9d7e1"
          },
          "model_module_version": "1.5.0"
        },
        "9b96ca2ba5fd4360a7bb82ac11a5398d": {
          "model_module": "@jupyter-widgets/controls",
          "model_name": "HBoxModel",
          "state": {
            "_dom_classes": [],
            "_model_module": "@jupyter-widgets/controls",
            "_model_module_version": "1.5.0",
            "_model_name": "HBoxModel",
            "_view_count": null,
            "_view_module": "@jupyter-widgets/controls",
            "_view_module_version": "1.5.0",
            "_view_name": "HBoxView",
            "box_style": "",
            "children": [
              "IPY_MODEL_ce84f7bb930f43f988edebc8671802bc",
              "IPY_MODEL_cbc41248186c44ab832205e54e1704a4"
            ],
            "layout": "IPY_MODEL_7195f5c8675248ce94b09a6316ecbcf0"
          },
          "model_module_version": "1.5.0"
        },
        "a7e54a55b12a4eaba503a7914997c45f": {
          "model_module": "@jupyter-widgets/base",
          "model_name": "LayoutModel",
          "state": {
            "_model_module": "@jupyter-widgets/base",
            "_model_module_version": "1.2.0",
            "_model_name": "LayoutModel",
            "_view_count": null,
            "_view_module": "@jupyter-widgets/base",
            "_view_module_version": "1.2.0",
            "_view_name": "LayoutView",
            "align_content": null,
            "align_items": null,
            "align_self": null,
            "border": null,
            "bottom": null,
            "display": null,
            "flex": null,
            "flex_flow": null,
            "grid_area": null,
            "grid_auto_columns": null,
            "grid_auto_flow": null,
            "grid_auto_rows": null,
            "grid_column": null,
            "grid_gap": null,
            "grid_row": null,
            "grid_template_areas": null,
            "grid_template_columns": null,
            "grid_template_rows": null,
            "height": null,
            "justify_content": null,
            "justify_items": null,
            "left": null,
            "margin": null,
            "max_height": null,
            "max_width": null,
            "min_height": null,
            "min_width": null,
            "object_fit": null,
            "object_position": null,
            "order": null,
            "overflow": null,
            "overflow_x": null,
            "overflow_y": null,
            "padding": null,
            "right": null,
            "top": null,
            "visibility": null,
            "width": null
          },
          "model_module_version": "1.2.0"
        },
        "a9ca76836f654ae68700ef4b056a8743": {
          "model_module": "@jupyter-widgets/controls",
          "model_name": "FloatProgressModel",
          "state": {
            "_dom_classes": [],
            "_model_module": "@jupyter-widgets/controls",
            "_model_module_version": "1.5.0",
            "_model_name": "FloatProgressModel",
            "_view_count": null,
            "_view_module": "@jupyter-widgets/controls",
            "_view_module_version": "1.5.0",
            "_view_name": "ProgressView",
            "bar_style": "success",
            "description": "Testing Epoch 0 : 100%",
            "description_tooltip": null,
            "layout": "IPY_MODEL_476d7dd346654461ac73dce670df4a47",
            "max": 80,
            "min": 0,
            "orientation": "horizontal",
            "style": "IPY_MODEL_55994511d3514c2fa8af5883bb762018",
            "value": 80
          },
          "model_module_version": "1.5.0"
        },
        "bd0811e56c1f469d9de0d458902f3532": {
          "model_module": "@jupyter-widgets/base",
          "model_name": "LayoutModel",
          "state": {
            "_model_module": "@jupyter-widgets/base",
            "_model_module_version": "1.2.0",
            "_model_name": "LayoutModel",
            "_view_count": null,
            "_view_module": "@jupyter-widgets/base",
            "_view_module_version": "1.2.0",
            "_view_name": "LayoutView",
            "align_content": null,
            "align_items": null,
            "align_self": null,
            "border": null,
            "bottom": null,
            "display": null,
            "flex": null,
            "flex_flow": null,
            "grid_area": null,
            "grid_auto_columns": null,
            "grid_auto_flow": null,
            "grid_auto_rows": null,
            "grid_column": null,
            "grid_gap": null,
            "grid_row": null,
            "grid_template_areas": null,
            "grid_template_columns": null,
            "grid_template_rows": null,
            "height": null,
            "justify_content": null,
            "justify_items": null,
            "left": null,
            "margin": null,
            "max_height": null,
            "max_width": null,
            "min_height": null,
            "min_width": null,
            "object_fit": null,
            "object_position": null,
            "order": null,
            "overflow": null,
            "overflow_x": null,
            "overflow_y": null,
            "padding": null,
            "right": null,
            "top": null,
            "visibility": null,
            "width": null
          },
          "model_module_version": "1.2.0"
        },
        "bf17a418bc2b4fa98f2ea260aeb60065": {
          "model_module": "@jupyter-widgets/controls",
          "model_name": "DescriptionStyleModel",
          "state": {
            "_model_module": "@jupyter-widgets/controls",
            "_model_module_version": "1.5.0",
            "_model_name": "DescriptionStyleModel",
            "_view_count": null,
            "_view_module": "@jupyter-widgets/base",
            "_view_module_version": "1.2.0",
            "_view_name": "StyleView",
            "description_width": ""
          },
          "model_module_version": "1.5.0"
        },
        "cbc41248186c44ab832205e54e1704a4": {
          "model_module": "@jupyter-widgets/controls",
          "model_name": "HTMLModel",
          "state": {
            "_dom_classes": [],
            "_model_module": "@jupyter-widgets/controls",
            "_model_module_version": "1.5.0",
            "_model_name": "HTMLModel",
            "_view_count": null,
            "_view_module": "@jupyter-widgets/controls",
            "_view_module_version": "1.5.0",
            "_view_name": "HTMLView",
            "description": "",
            "description_tooltip": null,
            "layout": "IPY_MODEL_db70dd7899eb414fb6461302c25a97d0",
            "placeholder": "​",
            "style": "IPY_MODEL_2f3416fc0061446ea32e74e619a9d1f0",
            "value": " 2932/2932 [1:37:19&lt;00:00,  1.99s/it, disc_loss=0.00712, gen_loss=0.685]"
          },
          "model_module_version": "1.5.0"
        },
        "ce84f7bb930f43f988edebc8671802bc": {
          "model_module": "@jupyter-widgets/controls",
          "model_name": "FloatProgressModel",
          "state": {
            "_dom_classes": [],
            "_model_module": "@jupyter-widgets/controls",
            "_model_module_version": "1.5.0",
            "_model_name": "FloatProgressModel",
            "_view_count": null,
            "_view_module": "@jupyter-widgets/controls",
            "_view_module_version": "1.5.0",
            "_view_name": "ProgressView",
            "bar_style": "success",
            "description": "Training Epoch 0 : 100%",
            "description_tooltip": null,
            "layout": "IPY_MODEL_813d8ded81af4be0aa8ea75f7168dcf7",
            "max": 2932,
            "min": 0,
            "orientation": "horizontal",
            "style": "IPY_MODEL_1420ce58ddb643f8bac589a4488ce6e6",
            "value": 2932
          },
          "model_module_version": "1.5.0"
        },
        "db70dd7899eb414fb6461302c25a97d0": {
          "model_module": "@jupyter-widgets/base",
          "model_name": "LayoutModel",
          "state": {
            "_model_module": "@jupyter-widgets/base",
            "_model_module_version": "1.2.0",
            "_model_name": "LayoutModel",
            "_view_count": null,
            "_view_module": "@jupyter-widgets/base",
            "_view_module_version": "1.2.0",
            "_view_name": "LayoutView",
            "align_content": null,
            "align_items": null,
            "align_self": null,
            "border": null,
            "bottom": null,
            "display": null,
            "flex": null,
            "flex_flow": null,
            "grid_area": null,
            "grid_auto_columns": null,
            "grid_auto_flow": null,
            "grid_auto_rows": null,
            "grid_column": null,
            "grid_gap": null,
            "grid_row": null,
            "grid_template_areas": null,
            "grid_template_columns": null,
            "grid_template_rows": null,
            "height": null,
            "justify_content": null,
            "justify_items": null,
            "left": null,
            "margin": null,
            "max_height": null,
            "max_width": null,
            "min_height": null,
            "min_width": null,
            "object_fit": null,
            "object_position": null,
            "order": null,
            "overflow": null,
            "overflow_x": null,
            "overflow_y": null,
            "padding": null,
            "right": null,
            "top": null,
            "visibility": null,
            "width": null
          },
          "model_module_version": "1.2.0"
        },
        "e29326fa4225410489d357dc03681400": {
          "model_module": "@jupyter-widgets/controls",
          "model_name": "DescriptionStyleModel",
          "state": {
            "_model_module": "@jupyter-widgets/controls",
            "_model_module_version": "1.5.0",
            "_model_name": "DescriptionStyleModel",
            "_view_count": null,
            "_view_module": "@jupyter-widgets/base",
            "_view_module_version": "1.2.0",
            "_view_name": "StyleView",
            "description_width": ""
          },
          "model_module_version": "1.5.0"
        },
        "e82a03ce55bc46e69b554ee65664ea39": {
          "model_module": "@jupyter-widgets/controls",
          "model_name": "ProgressStyleModel",
          "state": {
            "_model_module": "@jupyter-widgets/controls",
            "_model_module_version": "1.5.0",
            "_model_name": "ProgressStyleModel",
            "_view_count": null,
            "_view_module": "@jupyter-widgets/base",
            "_view_module_version": "1.2.0",
            "_view_name": "StyleView",
            "bar_color": null,
            "description_width": "initial"
          },
          "model_module_version": "1.5.0"
        },
        "f835dcf8c4504229995315eabeb894f6": {
          "model_module": "@jupyter-widgets/base",
          "model_name": "LayoutModel",
          "state": {
            "_model_module": "@jupyter-widgets/base",
            "_model_module_version": "1.2.0",
            "_model_name": "LayoutModel",
            "_view_count": null,
            "_view_module": "@jupyter-widgets/base",
            "_view_module_version": "1.2.0",
            "_view_name": "LayoutView",
            "align_content": null,
            "align_items": null,
            "align_self": null,
            "border": null,
            "bottom": null,
            "display": null,
            "flex": null,
            "flex_flow": null,
            "grid_area": null,
            "grid_auto_columns": null,
            "grid_auto_flow": null,
            "grid_auto_rows": null,
            "grid_column": null,
            "grid_gap": null,
            "grid_row": null,
            "grid_template_areas": null,
            "grid_template_columns": null,
            "grid_template_rows": null,
            "height": null,
            "justify_content": null,
            "justify_items": null,
            "left": null,
            "margin": null,
            "max_height": null,
            "max_width": null,
            "min_height": null,
            "min_width": null,
            "object_fit": null,
            "object_position": null,
            "order": null,
            "overflow": null,
            "overflow_x": null,
            "overflow_y": null,
            "padding": null,
            "right": null,
            "top": null,
            "visibility": null,
            "width": null
          },
          "model_module_version": "1.2.0"
        },
        "f9e552f9bd614842b44007b149205875": {
          "model_module": "@jupyter-widgets/controls",
          "model_name": "HBoxModel",
          "state": {
            "_dom_classes": [],
            "_model_module": "@jupyter-widgets/controls",
            "_model_module_version": "1.5.0",
            "_model_name": "HBoxModel",
            "_view_count": null,
            "_view_module": "@jupyter-widgets/controls",
            "_view_module_version": "1.5.0",
            "_view_name": "HBoxView",
            "box_style": "",
            "children": [
              "IPY_MODEL_a9ca76836f654ae68700ef4b056a8743",
              "IPY_MODEL_1105b9f967d140078e0e70f2b53181a5"
            ],
            "layout": "IPY_MODEL_bd0811e56c1f469d9de0d458902f3532"
          },
          "model_module_version": "1.5.0"
        },
        "fb8faf2bb9fb4955841177f11d49917c": {
          "model_module": "@jupyter-widgets/controls",
          "model_name": "ProgressStyleModel",
          "state": {
            "_model_module": "@jupyter-widgets/controls",
            "_model_module_version": "1.5.0",
            "_model_name": "ProgressStyleModel",
            "_view_count": null,
            "_view_module": "@jupyter-widgets/base",
            "_view_module_version": "1.2.0",
            "_view_name": "StyleView",
            "bar_color": null,
            "description_width": "initial"
          },
          "model_module_version": "1.5.0"
        }
      }
    }
  },
  "nbformat": 4,
  "nbformat_minor": 0
}